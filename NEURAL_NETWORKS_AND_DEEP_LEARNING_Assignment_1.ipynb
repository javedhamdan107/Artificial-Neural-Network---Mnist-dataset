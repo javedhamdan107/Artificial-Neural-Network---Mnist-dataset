{
  "nbformat": 4,
  "nbformat_minor": 0,
  "metadata": {
    "colab": {
      "name": "Copy of NEURAL NETWORKS AND DEEP LEARNING Assignment 1.ipynb",
      "provenance": [],
      "collapsed_sections": [],
      "include_colab_link": true
    },
    "kernelspec": {
      "name": "python3",
      "display_name": "Python 3"
    },
    "language_info": {
      "name": "python"
    }
  },
  "cells": [
    {
      "cell_type": "markdown",
      "metadata": {
        "id": "view-in-github",
        "colab_type": "text"
      },
      "source": [
        "<a href=\"https://colab.research.google.com/github/javedhamdan107/Artificial-Neural-Network---Mnist-dataset/blob/main/NEURAL_NETWORKS_AND_DEEP_LEARNING_Assignment_1.ipynb\" target=\"_parent\"><img src=\"https://colab.research.google.com/assets/colab-badge.svg\" alt=\"Open In Colab\"/></a>"
      ]
    },
    {
      "cell_type": "markdown",
      "source": [
        "CST 395 -CSE Neural Networks and Deep Learning Assignment 1<br>\n",
        "Submiited by: M H Javed Khayam S<br>\n",
        "              S5 CSE<br>\n",
        "              Roll no: 42 <br>\n",
        "              TVE19CS043<br>\n"
      ],
      "metadata": {
        "id": "po_8-VdSEiKc"
      }
    },
    {
      "cell_type": "markdown",
      "source": [
        "[github link](https://github.com/javedhamdan107/Artificial-Neural-Network---Mnist-dataset)\n",
        "\n",
        "\n",
        "\n",
        "[colab link](https://colab.research.google.com/drive/1m_bBX5cTLDn6kgN5v3BnomCLOlqhFL7n#scrollTo=BlRzcWndLkh6)"
      ],
      "metadata": {
        "id": "BlRzcWndLkh6"
      }
    },
    {
      "cell_type": "markdown",
      "source": [
        "Importing necessary libraries"
      ],
      "metadata": {
        "id": "i-EBz1P4Es5-"
      }
    },
    {
      "cell_type": "code",
      "execution_count": 1,
      "metadata": {
        "id": "_lXwvi_TrcK1"
      },
      "outputs": [],
      "source": [
        "import numpy as np\n",
        "import matplotlib.pyplot as plt\n",
        "from keras.layers import Dense, Flatten\n",
        "from keras.models import Sequential\n",
        "from tensorflow import keras\n",
        "from tensorflow.keras.utils import to_categorical\n",
        "from tensorflow.keras.optimizers import Adam\n",
        "from keras.datasets import mnist"
      ]
    },
    {
      "cell_type": "markdown",
      "source": [
        "Loading the mnist dataset"
      ],
      "metadata": {
        "id": "uCRLtNc5Eyxo"
      }
    },
    {
      "cell_type": "code",
      "source": [
        "# Load MNIST handwritten digit data\n",
        "(X_train, y_train), (X_test, y_test) = mnist.load_data()"
      ],
      "metadata": {
        "id": "pSju9nhyrq9o",
        "colab": {
          "base_uri": "https://localhost:8080/"
        },
        "outputId": "c02c6eb1-c6fe-4e33-e900-8c83f69faede"
      },
      "execution_count": 2,
      "outputs": [
        {
          "output_type": "stream",
          "name": "stdout",
          "text": [
            "Downloading data from https://storage.googleapis.com/tensorflow/tf-keras-datasets/mnist.npz\n",
            "11493376/11490434 [==============================] - 0s 0us/step\n",
            "11501568/11490434 [==============================] - 0s 0us/step\n"
          ]
        }
      ]
    },
    {
      "cell_type": "markdown",
      "source": [
        "Size of the training dataset"
      ],
      "metadata": {
        "id": "ubiFQZ0oE23h"
      }
    },
    {
      "cell_type": "code",
      "source": [
        "print(X_train.shape)\n",
        "print(X_test.shape)"
      ],
      "metadata": {
        "colab": {
          "base_uri": "https://localhost:8080/"
        },
        "id": "8bvh34ogrrpI",
        "outputId": "a3945190-5050-4955-e2c4-864126395ba3"
      },
      "execution_count": 3,
      "outputs": [
        {
          "output_type": "stream",
          "name": "stdout",
          "text": [
            "(60000, 28, 28)\n",
            "(10000, 28, 28)\n"
          ]
        }
      ]
    },
    {
      "cell_type": "markdown",
      "source": [
        "Size of the testing dataset"
      ],
      "metadata": {
        "id": "NFdmJ4nfE6vB"
      }
    },
    {
      "cell_type": "code",
      "source": [
        "print(y_train.shape)\n",
        "print(y_test.shape)"
      ],
      "metadata": {
        "colab": {
          "base_uri": "https://localhost:8080/"
        },
        "id": "V9PVPV-Trtr0",
        "outputId": "8f7b34df-585d-48f6-d3be-e5e953acc8fe"
      },
      "execution_count": 4,
      "outputs": [
        {
          "output_type": "stream",
          "name": "stdout",
          "text": [
            "(60000,)\n",
            "(10000,)\n"
          ]
        }
      ]
    },
    {
      "cell_type": "code",
      "source": [
        "# Display some images\n",
        "fig, axes = plt.subplots(ncols=5,nrows=2, sharex=False, \n",
        "    sharey=True, figsize=(10, 4))\n",
        "for i in range(10):\n",
        "    x=i%2\n",
        "    y=i%5\n",
        "\n",
        "    axes[x,y].set_title(y_train[i])\n",
        "    axes[x,y].imshow(X_train[i], cmap='gray')\n",
        "    axes[x,y].get_xaxis().set_visible(False)\n",
        "    axes[x,y].get_yaxis().set_visible(False)\n",
        "plt.show()"
      ],
      "metadata": {
        "colab": {
          "base_uri": "https://localhost:8080/",
          "height": 265
        },
        "id": "MrVJA2Q_rvNd",
        "outputId": "bb8fa0b9-400e-4101-98ca-4415fbfee3dc"
      },
      "execution_count": 5,
      "outputs": [
        {
          "output_type": "display_data",
          "data": {
            "image/png": "[encoded data removed]",
            "text/plain": [
              "<Figure size 720x288 with 10 Axes>"
            ]
          },
          "metadata": {
            "needs_background": "light"
          }
        }
      ]
    },
    {
      "cell_type": "code",
      "source": [
        "# Convert y_train into one-hot format\n",
        "temp = []\n",
        "for i in range(len(y_train)):\n",
        "    temp.append(to_categorical(y_train[i], num_classes=10))\n",
        "y_train = np.array(temp)\n",
        "# Convert y_test into one-hot format\n",
        "temp = []\n",
        "for i in range(len(y_test)):    \n",
        "    temp.append(to_categorical(y_test[i], num_classes=10))\n",
        "y_test = np.array(temp)"
      ],
      "metadata": {
        "id": "V9NQ7PaQtMnd"
      },
      "execution_count": 6,
      "outputs": []
    },
    {
      "cell_type": "markdown",
      "source": [
        "### 1st Model"
      ],
      "metadata": {
        "id": "khy71kDuFB4A"
      }
    },
    {
      "cell_type": "code",
      "source": [
        "# Create simple Neural Network model\n",
        "def model_1():\n",
        "  model = Sequential()\n",
        "  model.add(Flatten(input_shape=(28,28)))\n",
        "  model.add(Dense(80, activation='relu'))\n",
        " model.add(Dense(150, activation='relu'))\n",
        "  model.add(Dense(10, activation='softmax'))\n",
        "  opt = Adam(learning_rate=0.01)\n",
        "\n",
        "  # model.summary()\n",
        "\n",
        "  model.compile(loss='categorical_crossentropy', \n",
        "                optimizer='adam',\n",
        "                metrics=['acc'])\n",
        "  return model"
      ],
      "metadata": {
        "id": "YO1HJ89etVJf"
      },
      "execution_count": 7,
      "outputs": []
    },
    {
      "cell_type": "code",
      "source": [
        "# evaluate a model using k-fold cross-validation\n",
        "def evaluate_model(modelX):\n",
        "    scores = list()\n",
        "    # define model\n",
        "    model = modelX()\n",
        "    print(model.summary())\n",
        "    # fit model\n",
        "    history = model.fit(X_train, y_train, epochs=10, batch_size=32, validation_data=(X_test, y_test), verbose=1)\n",
        "    # evaluate model\n",
        "    _, acc = model.evaluate(X_test, y_test, verbose=1)\n",
        "    print('Validation Accuarcy %.3f' % (acc * 100.0))\n",
        "    # stores scores\n",
        "    scores.append(acc)\n",
        "    return scores, history"
      ],
      "metadata": {
        "id": "h9-QFlOjl-oN"
      },
      "execution_count": 8,
      "outputs": []
    },
    {
      "cell_type": "code",
      "source": [
        "# summarize history for accuracy\n",
        "def plot(history):\n",
        "  plt.plot(history.history['acc'])\n",
        "  plt.plot(history.history['val_acc'])\n",
        "  plt.title('model accuracy')\n",
        "  plt.ylabel('accuracy')\n",
        "  plt.xlabel('epoch')\n",
        "  plt.legend(['train', 'test'], loc='upper left')\n",
        "  plt.show()"
      ],
      "metadata": {
        "id": "lO37eicQtf98"
      },
      "execution_count": 9,
      "outputs": []
    },
    {
      "cell_type": "markdown",
      "source": [
        "Evaluating the 1st model"
      ],
      "metadata": {
        "id": "YBr3VgJ-FLOX"
      }
    },
    {
      "cell_type": "code",
      "source": [
        "scores, history = evaluate_model(model_1)"
      ],
      "metadata": {
        "colab": {
          "base_uri": "https://localhost:8080/"
        },
        "id": "xFpqzyqP5qXL",
        "outputId": "8be6145a-c543-409e-e3c2-a2a56a06f49e"
      },
      "execution_count": 10,
      "outputs": [
        {
          "output_type": "stream",
          "name": "stdout",
          "text": [
            "Model: \"sequential\"\n",
            "_________________________________________________________________\n",
            " Layer (type)                Output Shape              Param #   \n",
            "=================================================================\n",
            " flatten (Flatten)           (None, 784)               0         \n",
            "                                                                 \n",
            " dense (Dense)               (None, 80)                62800     \n",
            "                                                                 \n",
            " dense_1 (Dense)             (None, 10)                810       \n",
            "                                                                 \n",
            "=================================================================\n",
            "Total params: 63,610\n",
            "Trainable params: 63,610\n",
            "Non-trainable params: 0\n",
            "_________________________________________________________________\n",
            "None\n",
            "Epoch 1/10\n",
            "1875/1875 [==============================] - 5s 2ms/step - loss: 2.4447 - acc: 0.8226 - val_loss: 0.5261 - val_acc: 0.8762\n",
            "Epoch 2/10\n",
            "1875/1875 [==============================] - 4s 2ms/step - loss: 0.4294 - acc: 0.8935 - val_loss: 0.3968 - val_acc: 0.9048\n",
            "Epoch 3/10\n",
            "1875/1875 [==============================] - 4s 2ms/step - loss: 0.3231 - acc: 0.9159 - val_loss: 0.3479 - val_acc: 0.9154\n",
            "Epoch 4/10\n",
            "1875/1875 [==============================] - 4s 2ms/step - loss: 0.2757 - acc: 0.9268 - val_loss: 0.3038 - val_acc: 0.9267\n",
            "Epoch 5/10\n",
            "1875/1875 [==============================] - 4s 2ms/step - loss: 0.2441 - acc: 0.9349 - val_loss: 0.2877 - val_acc: 0.9359\n",
            "Epoch 6/10\n",
            "1875/1875 [==============================] - 4s 2ms/step - loss: 0.2241 - acc: 0.9404 - val_loss: 0.2585 - val_acc: 0.9361\n",
            "Epoch 7/10\n",
            "1875/1875 [==============================] - 4s 2ms/step - loss: 0.2240 - acc: 0.9421 - val_loss: 0.2574 - val_acc: 0.9418\n",
            "Epoch 8/10\n",
            "1875/1875 [==============================] - 4s 2ms/step - loss: 0.2171 - acc: 0.9440 - val_loss: 0.2774 - val_acc: 0.9339\n",
            "Epoch 9/10\n",
            "1875/1875 [==============================] - 4s 2ms/step - loss: 0.2030 - acc: 0.9471 - val_loss: 0.2395 - val_acc: 0.9486\n",
            "Epoch 10/10\n",
            "1875/1875 [==============================] - 4s 2ms/step - loss: 0.2054 - acc: 0.9470 - val_loss: 0.2725 - val_acc: 0.9376\n",
            "313/313 [==============================] - 0s 1ms/step - loss: 0.2725 - acc: 0.9376\n",
            "Validation Accuarcy 93.760\n"
          ]
        }
      ]
    },
    {
      "cell_type": "markdown",
      "source": [
        "#### Plot Accuracy vs Epoch chart for Model 1"
      ],
      "metadata": {
        "id": "P41WfJicFcp6"
      }
    },
    {
      "cell_type": "code",
      "source": [
        "plot(history)"
      ],
      "metadata": {
        "id": "HV5VrXT2tada",
        "colab": {
          "base_uri": "https://localhost:8080/",
          "height": 295
        },
        "outputId": "705d30e1-748e-4235-e3ba-a5002fcfe76f"
      },
      "execution_count": 11,
      "outputs": [
        {
          "output_type": "display_data",
          "data": {
            "image/png": "[encoded data removed]",
            "text/plain": [
              "<Figure size 432x288 with 1 Axes>"
            ]
          },
          "metadata": {
            "needs_background": "light"
          }
        }
      ]
    },
    {
      "cell_type": "code",
      "source": [
        ""
      ],
      "metadata": {
        "id": "uKL6rllN6bIr"
      },
      "execution_count": 11,
      "outputs": []
    },
    {
      "cell_type": "code",
      "source": [
        ""
      ],
      "metadata": {
        "id": "pDcWXY0y9Etz"
      },
      "execution_count": null,
      "outputs": []
    },
    {
      "cell_type": "code",
      "source": [
        ""
      ],
      "metadata": {
        "id": "pSU0CjTD9EwH"
      },
      "execution_count": null,
      "outputs": []
    },
    {
      "cell_type": "markdown",
      "source": [
        "### 2nd Model"
      ],
      "metadata": {
        "id": "l3j1c0evFQgM"
      }
    },
    {
      "cell_type": "code",
      "source": [
        "# Create simple Neural Network model\n",
        "def model_2():\n",
        "  model = Sequential()\n",
        "  model.add(Flatten(input_shape=(28,28)))\n",
        "  model.add(Dense(70, activation='relu'))\n",
        "  model.add(Dense(180, activation='sigmoid'))\n",
        "  model.add(Dense(10, activation='softmax'))\n",
        "  opt = Adam(learning_rate=0.01)\n",
        "\n",
        "  # model.summary()\n",
        "\n",
        "  model.compile(loss='categorical_crossentropy', \n",
        "                optimizer='adam',\n",
        "                metrics=['acc'])\n",
        "  return model"
      ],
      "metadata": {
        "id": "pORYBwpV9Eyb"
      },
      "execution_count": 12,
      "outputs": []
    },
    {
      "cell_type": "code",
      "source": [
        "scores, history = evaluate_model(model_2)"
      ],
      "metadata": {
        "colab": {
          "base_uri": "https://localhost:8080/"
        },
        "id": "4dfrkKpW9E0p",
        "outputId": "43cb850d-c820-402e-e830-babc7dcb99ee"
      },
      "execution_count": 13,
      "outputs": [
        {
          "output_type": "stream",
          "name": "stdout",
          "text": [
            "Model: \"sequential_1\"\n",
            "_________________________________________________________________\n",
            " Layer (type)                Output Shape              Param #   \n",
            "=================================================================\n",
            " flatten_1 (Flatten)         (None, 784)               0         \n",
            "                                                                 \n",
            " dense_2 (Dense)             (None, 50)                39250     \n",
            "                                                                 \n",
            " dense_3 (Dense)             (None, 50)                2550      \n",
            "                                                                 \n",
            " dense_4 (Dense)             (None, 10)                510       \n",
            "                                                                 \n",
            "=================================================================\n",
            "Total params: 42,310\n",
            "Trainable params: 42,310\n",
            "Non-trainable params: 0\n",
            "_________________________________________________________________\n",
            "None\n",
            "Epoch 1/10\n",
            "1875/1875 [==============================] - 4s 2ms/step - loss: 0.6015 - acc: 0.8333 - val_loss: 0.3209 - val_acc: 0.9056\n",
            "Epoch 2/10\n",
            "1875/1875 [==============================] - 4s 2ms/step - loss: 0.2948 - acc: 0.9136 - val_loss: 0.2498 - val_acc: 0.9262\n",
            "Epoch 3/10\n",
            "1875/1875 [==============================] - 4s 2ms/step - loss: 0.2527 - acc: 0.9258 - val_loss: 0.2291 - val_acc: 0.9316\n",
            "Epoch 4/10\n",
            "1875/1875 [==============================] - 4s 2ms/step - loss: 0.2298 - acc: 0.9323 - val_loss: 0.2544 - val_acc: 0.9235\n",
            "Epoch 5/10\n",
            "1875/1875 [==============================] - 4s 2ms/step - loss: 0.2331 - acc: 0.9309 - val_loss: 0.2304 - val_acc: 0.9316\n",
            "Epoch 6/10\n",
            "1875/1875 [==============================] - 4s 2ms/step - loss: 0.2241 - acc: 0.9329 - val_loss: 0.2020 - val_acc: 0.9387\n",
            "Epoch 7/10\n",
            "1875/1875 [==============================] - 4s 2ms/step - loss: 0.2092 - acc: 0.9379 - val_loss: 0.2044 - val_acc: 0.9396\n",
            "Epoch 8/10\n",
            "1875/1875 [==============================] - 4s 2ms/step - loss: 0.2134 - acc: 0.9370 - val_loss: 0.1962 - val_acc: 0.9432\n",
            "Epoch 9/10\n",
            "1875/1875 [==============================] - 4s 2ms/step - loss: 0.2003 - acc: 0.9412 - val_loss: 0.2234 - val_acc: 0.9330\n",
            "Epoch 10/10\n",
            "1875/1875 [==============================] - 4s 2ms/step - loss: 0.2044 - acc: 0.9400 - val_loss: 0.1962 - val_acc: 0.9410\n",
            "313/313 [==============================] - 0s 1ms/step - loss: 0.1962 - acc: 0.9410\n",
            "Validation Accuarcy 94.100\n"
          ]
        }
      ]
    },
    {
      "cell_type": "markdown",
      "source": [
        "#### Plot Accuracy vs Epoch chart for Model 2"
      ],
      "metadata": {
        "id": "ZDPnnb51FZ_6"
      }
    },
    {
      "cell_type": "code",
      "source": [
        "plot(history)"
      ],
      "metadata": {
        "colab": {
          "base_uri": "https://localhost:8080/",
          "height": 295
        },
        "id": "-FVgbYWj9E28",
        "outputId": "f6d24f93-186e-439d-d1ba-d001126036be"
      },
      "execution_count": 14,
      "outputs": [
        {
          "output_type": "display_data",
          "data": {
            "image/png": "[encoded data removed]",
            "text/plain": [
              "<Figure size 432x288 with 1 Axes>"
            ]
          },
          "metadata": {
            "needs_background": "light"
          }
        }
      ]
    }
  ]
}
